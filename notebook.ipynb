{
 "cells": [
  {
   "cell_type": "markdown",
   "metadata": {},
   "source": [
    "## IPython Notebook Test for Git ##\n",
    "Ok lets write a simple notebook and try version controlling it."
   ]
  },
  {
   "cell_type": "code",
   "execution_count": 1,
   "metadata": {
    "collapsed": false
   },
   "outputs": [
    {
     "name": "stdout",
     "output_type": "stream",
     "text": [
      "Die Antwort ist 42\n",
      "Die Antwort ist 42\n",
      "Die Antwort ist 42\n",
      "Die Antwort ist 42\n",
      "Die Antwort ist 42\n",
      "Die Antwort ist 42\n",
      "Die Antwort ist 42\n",
      "Die Antwort ist 42\n",
      "Die Antwort ist 42\n",
      "Die Antwort ist 42\n"
     ]
    }
   ],
   "source": [
    "x = 42\n",
    "for i in range(10):\n",
    "    print \"Die Antwort ist {}\".format(x)"
   ]
  },
  {
   "cell_type": "markdown",
   "metadata": {},
   "source": [
    "Hat ja prima funktioniert."
   ]
  }
 ],
 "metadata": {
  "kernelspec": {
   "display_name": "Python 2",
   "language": "python",
   "name": "python2"
  },
  "language_info": {
   "codemirror_mode": {
    "name": "ipython",
    "version": 2
   },
   "file_extension": ".py",
   "mimetype": "text/x-python",
   "name": "python",
   "nbconvert_exporter": "python",
   "pygments_lexer": "ipython2",
   "version": "2.7.10"
  }
 },
 "nbformat": 4,
 "nbformat_minor": 0
}
